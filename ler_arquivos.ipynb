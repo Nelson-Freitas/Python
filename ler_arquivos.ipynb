{
 "cells": [
  {
   "cell_type": "code",
   "execution_count": null,
   "metadata": {},
   "outputs": [],
   "source": [
    "# Ler vários arquivos em um diretório\n",
    " \n",
    "import zipfile\n",
    "import pandas as pd\n",
    "pd.set_option('display.max_columns', None)\n",
    "pd.set_option('display.max_rows', None)\n",
    "pd.options.display.float_format = '{:,.2f}'.format\n",
    "from pandas import ExcelWriter\n",
    "import datetime\n",
    "import numpy as np\n",
    "\n",
    "\n",
    "directory_path = r\"\" \n",
    "os.chdir(directory_path) \n",
    "\n",
    "os.chdir(directory_path)\n",
    "li = []\n",
    "rows_count = 0\n",
    "files_read = 0 \n",
    "\n",
    "for file in os.listdir(os.getcwd()):\n",
    "    if \".\" in file: \n",
    "        file_name = os.path.abspath(file) # get full path of files\n",
    "        print(file_name)\n",
    "        df = pd.read_excel(file_name)\n",
    "        df['file'] = file\n",
    "        print(df.columns)\n",
    "        rows_count = rows_count + df.shape[0]\n",
    "        files_read = files_read + 1\n",
    "        li.append(df)\n",
    "\n",
    "df_concatenated_raw = pd.concat(li, axis=0, ignore_index=True)\n",
    "print('Foram lidas {} linhas de {} arquivos'.format(rows_count,files_read))"
   ]
  }
 ],
 "metadata": {
  "language_info": {
   "name": "python"
  },
  "orig_nbformat": 4
 },
 "nbformat": 4,
 "nbformat_minor": 2
}
