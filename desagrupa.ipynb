{
 "cells": [
  {
   "cell_type": "code",
   "execution_count": 5,
   "id": "3ed7b3de",
   "metadata": {},
   "outputs": [],
   "source": [
    "import pandas as pd"
   ]
  },
  {
   "cell_type": "code",
   "execution_count": 10,
   "id": "22395922",
   "metadata": {},
   "outputs": [],
   "source": [
    "df = pd.read_excel(\"arquivo.xlsx\")"
   ]
  },
  {
   "cell_type": "code",
   "execution_count": 11,
   "id": "b5228336",
   "metadata": {},
   "outputs": [
    {
     "data": {
      "text/html": [
       "<div>\n",
       "<style scoped>\n",
       "    .dataframe tbody tr th:only-of-type {\n",
       "        vertical-align: middle;\n",
       "    }\n",
       "\n",
       "    .dataframe tbody tr th {\n",
       "        vertical-align: top;\n",
       "    }\n",
       "\n",
       "    .dataframe thead th {\n",
       "        text-align: right;\n",
       "    }\n",
       "</style>\n",
       "<table border=\"1\" class=\"dataframe\">\n",
       "  <thead>\n",
       "    <tr style=\"text-align: right;\">\n",
       "      <th></th>\n",
       "      <th>PDV_RED</th>\n",
       "      <th>Pdv CNPJ</th>\n",
       "      <th>Categoría SKU</th>\n",
       "      <th>Fabricante SKU</th>\n",
       "      <th>Marca SKU</th>\n",
       "      <th>Nome SKU</th>\n",
       "      <th>Código Barras SKU</th>\n",
       "      <th>Preço</th>\n",
       "      <th>abril de 2022</th>\n",
       "    </tr>\n",
       "  </thead>\n",
       "  <tbody>\n",
       "    <tr>\n",
       "      <th>0</th>\n",
       "      <td>SONDA SUP</td>\n",
       "      <td>1937635002983</td>\n",
       "      <td>Snack</td>\n",
       "      <td>PEPSICO</td>\n",
       "      <td>ELMA CHIPS</td>\n",
       "      <td>LANCHINHO SORTIDO 98G</td>\n",
       "      <td>7892840818296</td>\n",
       "      <td>Preço por Unidade R$</td>\n",
       "      <td>11.54</td>\n",
       "    </tr>\n",
       "    <tr>\n",
       "      <th>1</th>\n",
       "      <td>NaN</td>\n",
       "      <td>NaN</td>\n",
       "      <td>NaN</td>\n",
       "      <td>NaN</td>\n",
       "      <td>NaN</td>\n",
       "      <td>NaN</td>\n",
       "      <td>NaN</td>\n",
       "      <td>Vendas em valor R$</td>\n",
       "      <td>761.64</td>\n",
       "    </tr>\n",
       "    <tr>\n",
       "      <th>2</th>\n",
       "      <td>NaN</td>\n",
       "      <td>NaN</td>\n",
       "      <td>NaN</td>\n",
       "      <td>NaN</td>\n",
       "      <td>NaN</td>\n",
       "      <td>NaN</td>\n",
       "      <td>NaN</td>\n",
       "      <td>Venda em KG</td>\n",
       "      <td>6.468</td>\n",
       "    </tr>\n",
       "    <tr>\n",
       "      <th>3</th>\n",
       "      <td>NaN</td>\n",
       "      <td>NaN</td>\n",
       "      <td>NaN</td>\n",
       "      <td>NaN</td>\n",
       "      <td>NaN</td>\n",
       "      <td>NaN</td>\n",
       "      <td>NaN</td>\n",
       "      <td>Quantidade de venda</td>\n",
       "      <td>66</td>\n",
       "    </tr>\n",
       "    <tr>\n",
       "      <th>4</th>\n",
       "      <td>NaN</td>\n",
       "      <td>NaN</td>\n",
       "      <td>NaN</td>\n",
       "      <td>NaN</td>\n",
       "      <td>NaN</td>\n",
       "      <td>NaN</td>\n",
       "      <td>NaN</td>\n",
       "      <td>Share SKU Categoria</td>\n",
       "      <td>0.029723</td>\n",
       "    </tr>\n",
       "  </tbody>\n",
       "</table>\n",
       "</div>"
      ],
      "text/plain": [
       "     PDV_RED       Pdv CNPJ Categoría SKU Fabricante SKU   Marca SKU  \\\n",
       "0  SONDA SUP  1937635002983         Snack        PEPSICO  ELMA CHIPS   \n",
       "1        NaN            NaN           NaN            NaN         NaN   \n",
       "2        NaN            NaN           NaN            NaN         NaN   \n",
       "3        NaN            NaN           NaN            NaN         NaN   \n",
       "4        NaN            NaN           NaN            NaN         NaN   \n",
       "\n",
       "                Nome SKU Código Barras SKU                Preço  abril de 2022  \n",
       "0  LANCHINHO SORTIDO 98G     7892840818296  Preço por Unidade R$         11.54  \n",
       "1                    NaN               NaN    Vendas em valor R$        761.64  \n",
       "2                    NaN               NaN           Venda em KG         6.468  \n",
       "3                    NaN               NaN   Quantidade de venda            66  \n",
       "4                    NaN               NaN   Share SKU Categoria      0.029723  "
      ]
     },
     "execution_count": 11,
     "metadata": {},
     "output_type": "execute_result"
    }
   ],
   "source": [
    "df.head()"
   ]
  },
  {
   "cell_type": "code",
   "execution_count": 37,
   "id": "db23583c-a9af-46af-9700-8dbd1763390c",
   "metadata": {},
   "outputs": [
    {
     "data": {
      "text/plain": [
       "range(0, 17161)"
      ]
     },
     "execution_count": 37,
     "metadata": {},
     "output_type": "execute_result"
    }
   ],
   "source": [
    "range(len(df['Plataforma'])) \n"
   ]
  },
  {
   "cell_type": "code",
   "execution_count": 27,
   "id": "1621b110",
   "metadata": {},
   "outputs": [],
   "source": [
    "df['DataAgregada'] = df['DataAgregada'].fillna(0)\n",
    "df['Produto'] = df['Produto'].fillna(0) \n",
    "df['Sku'] = df['Sku'].fillna(0) \n"
   ]
  },
  {
   "cell_type": "code",
   "execution_count": 13,
   "id": "1b6aed14",
   "metadata": {},
   "outputs": [],
   "source": [
    "df['Plataforma'] = df['Plataforma'].fillna(0)"
   ]
  },
  {
   "cell_type": "code",
   "execution_count": 41,
   "id": "67d08222",
   "metadata": {},
   "outputs": [
    {
     "name": "stderr",
     "output_type": "stream",
     "text": [
      "<ipython-input-41-5e066d47650f>:3: SettingWithCopyWarning: \n",
      "A value is trying to be set on a copy of a slice from a DataFrame\n",
      "\n",
      "See the caveats in the documentation: https://pandas.pydata.org/pandas-docs/stable/user_guide/indexing.html#returning-a-view-versus-a-copy\n",
      "  ifood['Sku'][i+1] = ifood['Sku'][i]\n"
     ]
    }
   ],
   "source": [
    "for i in range(17160): \n",
    "    if df['Sku'][i+1] == 0: \n",
    "        df['Sku'][i+1] = df['Sku'][i] \n",
    "    else: \n",
    "        pass \n",
    "    "
   ]
  },
  {
   "cell_type": "code",
   "execution_count": 43,
   "id": "8e9d4453",
   "metadata": {},
   "outputs": [],
   "source": [
    "ifood.to_excel(\"arquivo_completo.xlsx\", sheet_name = \"Base\", index = False)"
   ]
  }
 ],
 "metadata": {
  "kernelspec": {
   "display_name": "Python 3",
   "language": "python",
   "name": "python3"
  },
  "language_info": {
   "codemirror_mode": {
    "name": "ipython",
    "version": 3
   },
   "file_extension": ".py",
   "mimetype": "text/x-python",
   "name": "python",
   "nbconvert_exporter": "python",
   "pygments_lexer": "ipython3",
   "version": "3.8.8"
  }
 },
 "nbformat": 4,
 "nbformat_minor": 5
}
